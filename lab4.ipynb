{
 "cells": [
  {
   "cell_type": "code",
   "execution_count": 7,
   "metadata": {},
   "outputs": [],
   "source": [
    "import random\n",
    "from deap import base, creator, tools"
   ]
  },
  {
   "cell_type": "code",
   "execution_count": 9,
   "metadata": {},
   "outputs": [],
   "source": [
    "def eval_func(individual):\n",
    "    target_sum = 45\n",
    "    return len(individual) - abs(sum(individual) - target_sum),"
   ]
  },
  {
   "cell_type": "code",
   "execution_count": 10,
   "metadata": {},
   "outputs": [],
   "source": [
    "def create_toolbox(num_bits):\n",
    "    creator.create(\"FitnessMax\", base.Fitness, weights=(1.0,))\n",
    "    creator.create(\"Individual\", list, fitness=creator.FitnessMax)\n",
    "\n",
    "    toolbox = base.Toolbox()\n",
    "\n",
    "    toolbox.register(\"attr_bool\", random.randint, 0, 1)\n",
    "\n",
    "    toolbox.register(\"individual\", tools.initRepeat, creator.Individual, \n",
    "        toolbox.attr_bool, num_bits)\n",
    "\n",
    "    toolbox.register(\"population\", tools.initRepeat, list, toolbox.individual)\n",
    "\n",
    "    toolbox.register(\"evaluate\", eval_func)\n",
    "\n",
    "    toolbox.register(\"mate\", tools.cxTwoPoint)\n",
    "\n",
    "    toolbox.register(\"mutate\", tools.mutFlipBit, indpb=0.05)\n",
    "\n",
    "    toolbox.register(\"select\", tools.selTournament, tournsize=3)\n",
    "    \n",
    "    return toolbox"
   ]
  },
  {
   "cell_type": "code",
   "execution_count": 1,
   "metadata": {},
   "outputs": [
    {
     "ename": "NameError",
     "evalue": "name 'create_toolbox' is not defined",
     "output_type": "error",
     "traceback": [
      "\u001b[1;31m---------------------------------------------------------------------------\u001b[0m",
      "\u001b[1;31mNameError\u001b[0m                                 Traceback (most recent call last)",
      "\u001b[1;32m<ipython-input-1-6ac9a384cd4e>\u001b[0m in \u001b[0;36m<module>\u001b[1;34m\u001b[0m\n\u001b[0;32m      3\u001b[0m     \u001b[0mnum_bits\u001b[0m \u001b[1;33m=\u001b[0m \u001b[1;36m75\u001b[0m\u001b[1;33m\u001b[0m\u001b[1;33m\u001b[0m\u001b[0m\n\u001b[0;32m      4\u001b[0m \u001b[1;33m\u001b[0m\u001b[0m\n\u001b[1;32m----> 5\u001b[1;33m     \u001b[0mtoolbox\u001b[0m \u001b[1;33m=\u001b[0m \u001b[0mcreate_toolbox\u001b[0m\u001b[1;33m(\u001b[0m\u001b[0mnum_bits\u001b[0m\u001b[1;33m)\u001b[0m\u001b[1;33m\u001b[0m\u001b[1;33m\u001b[0m\u001b[0m\n\u001b[0m\u001b[0;32m      6\u001b[0m \u001b[1;33m\u001b[0m\u001b[0m\n\u001b[0;32m      7\u001b[0m     \u001b[0mrandom\u001b[0m\u001b[1;33m.\u001b[0m\u001b[0mseed\u001b[0m\u001b[1;33m(\u001b[0m\u001b[1;36m7\u001b[0m\u001b[1;33m)\u001b[0m\u001b[1;33m\u001b[0m\u001b[1;33m\u001b[0m\u001b[0m\n",
      "\u001b[1;31mNameError\u001b[0m: name 'create_toolbox' is not defined"
     ]
    }
   ],
   "source": [
    "if __name__ == \"__main__\":\n",
    "\n",
    "    num_bits = 75\n",
    "\n",
    "    toolbox = create_toolbox(num_bits)\n",
    "\n",
    "    random.seed(7)\n",
    "\n",
    "    population = toolbox.population(n=500)\n",
    "\n",
    "    probab_crossing, probab_mutating  = 0.5, 0.2\n",
    "\n",
    "    num_generations = 60\n",
    "    \n",
    "    print('\\nStarting the evolution process')\n",
    "\n",
    "    fitnesses = list(map(toolbox.evaluate, population))\n",
    "    for ind, fit in zip(population, fitnesses):\n",
    "        ind.fitness.values = fit\n",
    "    \n",
    "    print('\\nEvaluated', len(population), 'individuals')\n",
    "    \n",
    "    for g in range(num_generations):\n",
    "        print(\"\\n===== Generation\", g)\n",
    "\n",
    "        offspring = toolbox.select(population, len(population))\n",
    "\n",
    "        offspring = list(map(toolbox.clone, offspring))\n",
    "\n",
    "        for child1, child2 in zip(offspring[::2], offspring[1::2]):\n",
    "\n",
    "            if random.random() < probab_crossing:\n",
    "                toolbox.mate(child1, child2)\n",
    "\n",
    "                del child1.fitness.values\n",
    "                del child2.fitness.values\n",
    "\n",
    "\n",
    "        for mutant in offspring:\n",
    "\n",
    "            if random.random() < probab_mutating:\n",
    "                toolbox.mutate(mutant)\n",
    "                del mutant.fitness.values\n",
    "\n",
    "        invalid_ind = [ind for ind in offspring if not ind.fitness.valid]\n",
    "        fitnesses = map(toolbox.evaluate, invalid_ind)\n",
    "        for ind, fit in zip(invalid_ind, fitnesses):\n",
    "            ind.fitness.values = fit\n",
    "        \n",
    "        print('Evaluated', len(invalid_ind), 'individuals')\n",
    "\n",
    "        population[:] = offspring\n",
    "        \n",
    "        # Gather all the fitnesses in one list and print the stats\n",
    "        fits = [ind.fitness.values[0] for ind in population]\n",
    "        \n",
    "        length = len(population)\n",
    "        mean = sum(fits) / length\n",
    "        sum2 = sum(x*x for x in fits)\n",
    "        std = abs(sum2 / length - mean**2)**0.5\n",
    "        \n",
    "        print('Min =', min(fits), ', Max =', max(fits))\n",
    "        print('Average =', round(mean, 2), ', Standard deviation =', \n",
    "                round(std, 2))\n",
    "    \n",
    "    print(\"\\n==== End of evolution\")\n",
    "    \n",
    "    best_ind = tools.selBest(population, 1)[0]\n",
    "    print('\\nBest individual:\\n', best_ind)\n",
    "    print('\\nNumber of ones:', sum(best_ind))\n"
   ]
  },
  {
   "cell_type": "code",
   "execution_count": null,
   "metadata": {},
   "outputs": [],
   "source": []
  }
 ],
 "metadata": {
  "kernelspec": {
   "display_name": "Python 3",
   "language": "python",
   "name": "python3"
  },
  "language_info": {
   "codemirror_mode": {
    "name": "ipython",
    "version": 3
   },
   "file_extension": ".py",
   "mimetype": "text/x-python",
   "name": "python",
   "nbconvert_exporter": "python",
   "pygments_lexer": "ipython3",
   "version": "3.7.5"
  }
 },
 "nbformat": 4,
 "nbformat_minor": 2
}
