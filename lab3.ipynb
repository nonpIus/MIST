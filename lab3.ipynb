{
 "cells": [
  {
   "cell_type": "code",
   "execution_count": 1,
   "metadata": {},
   "outputs": [
    {
     "name": "stderr",
     "output_type": "stream",
     "text": [
      "Using TensorFlow backend.\n"
     ]
    }
   ],
   "source": [
    "from __future__ import print_function\n",
    "import numpy as np\n",
    "from keras.datasets import mnist\n",
    "from keras.models import Sequential\n",
    "from keras.layers.core import Dense, Dropout, Activation\n",
    "from keras.optimizers import RMSprop\n",
    "from keras.utils import np_utils"
   ]
  },
  {
   "cell_type": "code",
   "execution_count": 58,
   "metadata": {},
   "outputs": [],
   "source": [
    "import matplotlib.pyplot as plt"
   ]
  },
  {
   "cell_type": "code",
   "execution_count": 3,
   "metadata": {},
   "outputs": [],
   "source": [
    "np.random.seed(1671)  "
   ]
  },
  {
   "cell_type": "code",
   "execution_count": 51,
   "metadata": {},
   "outputs": [],
   "source": [
    "NB_EPOCH = 20\n",
    "BATCH_SIZE = 128\n",
    "VERBOSE = 1\n",
    "NB_CLASSES = 10 \n",
    "OPTIMIZER = RMSprop()\n",
    "N_HIDDEN = 128\n",
    "VALIDATION_SPLIT=0.2\n",
    "DROPOUT = 0.3"
   ]
  },
  {
   "cell_type": "code",
   "execution_count": 52,
   "metadata": {},
   "outputs": [],
   "source": [
    "(X_train, y_train), (X_test, y_test) = mnist.load_data()"
   ]
  },
  {
   "cell_type": "code",
   "execution_count": 53,
   "metadata": {},
   "outputs": [],
   "source": [
    "RESHAPED = 784"
   ]
  },
  {
   "cell_type": "code",
   "execution_count": 54,
   "metadata": {},
   "outputs": [],
   "source": [
    "X_train = X_train.reshape(60000, RESHAPED)\n",
    "X_test = X_test.reshape(10000, RESHAPED)\n",
    "X_train = X_train.astype('float32')\n",
    "X_test = X_test.astype('float32')"
   ]
  },
  {
   "cell_type": "code",
   "execution_count": 55,
   "metadata": {},
   "outputs": [
    {
     "name": "stdout",
     "output_type": "stream",
     "text": [
      "60000 train samples\n",
      "10000 test samples\n"
     ]
    }
   ],
   "source": [
    "X_train /= 255\n",
    "X_test /= 255\n",
    "print(X_train.shape[0], 'train samples')\n",
    "print(X_test.shape[0], 'test samples')"
   ]
  },
  {
   "cell_type": "code",
   "execution_count": 56,
   "metadata": {},
   "outputs": [],
   "source": [
    "Y_train = np_utils.to_categorical(y_train, NB_CLASSES)\n",
    "Y_test = np_utils.to_categorical(y_test, NB_CLASSES)"
   ]
  },
  {
   "cell_type": "code",
   "execution_count": 57,
   "metadata": {},
   "outputs": [
    {
     "name": "stdout",
     "output_type": "stream",
     "text": [
      "_________________________________________________________________\n",
      "Layer (type)                 Output Shape              Param #   \n",
      "=================================================================\n",
      "dense_13 (Dense)             (None, 128)               100480    \n",
      "_________________________________________________________________\n",
      "activation_13 (Activation)   (None, 128)               0         \n",
      "_________________________________________________________________\n",
      "dropout_9 (Dropout)          (None, 128)               0         \n",
      "_________________________________________________________________\n",
      "dense_14 (Dense)             (None, 128)               16512     \n",
      "_________________________________________________________________\n",
      "activation_14 (Activation)   (None, 128)               0         \n",
      "_________________________________________________________________\n",
      "dropout_10 (Dropout)         (None, 128)               0         \n",
      "_________________________________________________________________\n",
      "dense_15 (Dense)             (None, 10)                1290      \n",
      "_________________________________________________________________\n",
      "activation_15 (Activation)   (None, 10)                0         \n",
      "=================================================================\n",
      "Total params: 118,282\n",
      "Trainable params: 118,282\n",
      "Non-trainable params: 0\n",
      "_________________________________________________________________\n",
      "Train on 48000 samples, validate on 12000 samples\n",
      "Epoch 1/20\n",
      "48000/48000 [==============================] - 24s 494us/step - loss: 0.4888 - acc: 0.8509 - val_loss: 0.1877 - val_acc: 0.9428\n",
      "Epoch 2/20\n",
      "48000/48000 [==============================] - 13s 276us/step - loss: 0.2456 - acc: 0.9271 - val_loss: 0.1465 - val_acc: 0.9567\n",
      "Epoch 3/20\n",
      "48000/48000 [==============================] - 13s 277us/step - loss: 0.1917 - acc: 0.9435 - val_loss: 0.1242 - val_acc: 0.9624\n",
      "Epoch 4/20\n",
      "48000/48000 [==============================] - 13s 274us/step - loss: 0.1608 - acc: 0.9526 - val_loss: 0.1040 - val_acc: 0.9703\n",
      "Epoch 5/20\n",
      "48000/48000 [==============================] - 13s 277us/step - loss: 0.1415 - acc: 0.9574 - val_loss: 0.0984 - val_acc: 0.9725\n",
      "Epoch 6/20\n",
      "48000/48000 [==============================] - 14s 293us/step - loss: 0.1296 - acc: 0.9616 - val_loss: 0.0940 - val_acc: 0.9734\n",
      "Epoch 7/20\n",
      "48000/48000 [==============================] - 13s 280us/step - loss: 0.1212 - acc: 0.9634 - val_loss: 0.0936 - val_acc: 0.9736\n",
      "Epoch 8/20\n",
      "48000/48000 [==============================] - 14s 284us/step - loss: 0.1118 - acc: 0.9669 - val_loss: 0.0929 - val_acc: 0.9739\n",
      "Epoch 9/20\n",
      "48000/48000 [==============================] - 14s 286us/step - loss: 0.1060 - acc: 0.9688 - val_loss: 0.0944 - val_acc: 0.9744\n",
      "Epoch 10/20\n",
      "48000/48000 [==============================] - 14s 298us/step - loss: 0.1020 - acc: 0.9689 - val_loss: 0.0862 - val_acc: 0.9771\n",
      "Epoch 11/20\n",
      "48000/48000 [==============================] - 14s 288us/step - loss: 0.0940 - acc: 0.9711 - val_loss: 0.0889 - val_acc: 0.9772\n",
      "Epoch 12/20\n",
      "48000/48000 [==============================] - 16s 334us/step - loss: 0.0918 - acc: 0.9722 - val_loss: 0.0883 - val_acc: 0.9770\n",
      "Epoch 13/20\n",
      "48000/48000 [==============================] - 16s 333us/step - loss: 0.0897 - acc: 0.9738 - val_loss: 0.0911 - val_acc: 0.9758\n",
      "Epoch 14/20\n",
      "48000/48000 [==============================] - 15s 310us/step - loss: 0.0842 - acc: 0.9750 - val_loss: 0.0922 - val_acc: 0.9775\n",
      "Epoch 15/20\n",
      "48000/48000 [==============================] - 17s 345us/step - loss: 0.0826 - acc: 0.9752 - val_loss: 0.0889 - val_acc: 0.9785\n",
      "Epoch 16/20\n",
      "48000/48000 [==============================] - 12s 255us/step - loss: 0.0786 - acc: 0.9770 - val_loss: 0.0882 - val_acc: 0.9791\n",
      "Epoch 17/20\n",
      "48000/48000 [==============================] - 12s 248us/step - loss: 0.0799 - acc: 0.9766 - val_loss: 0.0925 - val_acc: 0.9766\n",
      "Epoch 18/20\n",
      "48000/48000 [==============================] - 12s 249us/step - loss: 0.0781 - acc: 0.9771 - val_loss: 0.0920 - val_acc: 0.9782\n",
      "Epoch 19/20\n",
      "48000/48000 [==============================] - 12s 255us/step - loss: 0.0746 - acc: 0.9775 - val_loss: 0.0910 - val_acc: 0.9784\n",
      "Epoch 20/20\n",
      "48000/48000 [==============================] - 11s 221us/step - loss: 0.0747 - acc: 0.9785 - val_loss: 0.0956 - val_acc: 0.9793\n",
      "10000/10000 [==============================] - 4s 351us/step\n",
      "\n",
      "Оценка теста: 0.08694162607784384\n",
      "Точность теста: 0.9801\n"
     ]
    }
   ],
   "source": [
    "model = Sequential()\n",
    "model.add(Dense(N_HIDDEN, input_shape=(RESHAPED,)))\n",
    "model.add(Activation('relu'))\n",
    "model.add(Dropout(DROPOUT))\n",
    "model.add(Dense(N_HIDDEN))\n",
    "model.add(Activation('relu'))\n",
    "model.add(Dropout(DROPOUT))\n",
    "model.add(Dense(NB_CLASSES))\n",
    "model.add(Activation('softmax'))\n",
    "model.summary()\n",
    "\n",
    "model.compile(loss='categorical_crossentropy',\n",
    "              optimizer=OPTIMIZER,\n",
    "              metrics=['accuracy'])\n",
    "\n",
    "history = model.fit(X_train, Y_train,\n",
    "                    batch_size=BATCH_SIZE, epochs=NB_EPOCH,\n",
    "                    verbose=VERBOSE, validation_split=VALIDATION_SPLIT)\n",
    "\n",
    "score = model.evaluate(X_test, Y_test, verbose=VERBOSE)\n",
    "print(\"\\nОценка теста:\", score[0])\n",
    "print('Точность теста:', score[1])\n"
   ]
  },
  {
   "cell_type": "code",
   "execution_count": null,
   "metadata": {},
   "outputs": [],
   "source": []
  }
 ],
 "metadata": {
  "kernelspec": {
   "display_name": "Python 3",
   "language": "python",
   "name": "python3"
  },
  "language_info": {
   "codemirror_mode": {
    "name": "ipython",
    "version": 3
   },
   "file_extension": ".py",
   "mimetype": "text/x-python",
   "name": "python",
   "nbconvert_exporter": "python",
   "pygments_lexer": "ipython3",
   "version": "3.7.5"
  }
 },
 "nbformat": 4,
 "nbformat_minor": 2
}
